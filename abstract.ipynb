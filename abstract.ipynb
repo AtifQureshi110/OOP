{
  "nbformat": 4,
  "nbformat_minor": 0,
  "metadata": {
    "colab": {
      "provenance": [],
      "authorship_tag": "ABX9TyM7qTQ7i5Q0wEvKzIo01f6k",
      "include_colab_link": true
    },
    "kernelspec": {
      "name": "python3",
      "display_name": "Python 3"
    },
    "language_info": {
      "name": "python"
    }
  },
  "cells": [
    {
      "cell_type": "markdown",
      "metadata": {
        "id": "view-in-github",
        "colab_type": "text"
      },
      "source": [
        "<a href=\"https://colab.research.google.com/github/AtifQureshi110/OOP/blob/main/abstract.ipynb\" target=\"_parent\"><img src=\"https://colab.research.google.com/assets/colab-badge.svg\" alt=\"Open In Colab\"/></a>"
      ]
    },
    {
      "cell_type": "markdown",
      "source": [
        "# **ABSTRACTION**"
      ],
      "metadata": {
        "id": "P_e6g1ikjQZj"
      }
    },
    {
      "cell_type": "markdown",
      "source": [
        "- static method does not require an object \n",
        "- inner classes: a class within a class is called an inner class. it must have a strong connection to other classes. but a better approach is to make an instance of class b/c it can be used in multiple places on the other hand inner is only used inside the class it's scope is limited.\n",
        "- modeler class does not prefer the open class\n",
        "- design pattern is another complete course "
      ],
      "metadata": {
        "id": "oM6CKdyeNV-7"
      }
    },
    {
      "cell_type": "markdown",
      "source": [
        "- An abstract class can be considered as a blueprint for other classes.\n",
        "- It allows you to create a set of methods that must be created within any child classes built from the abstract class.\n",
        "- A class which contains one or more abstract methods is called an abstract class.\n",
        "- An abstract method is a method that has a declaration but does not have an implementation."
      ],
      "metadata": {
        "id": "DBFpWenOaoBk"
      }
    },
    {
      "cell_type": "markdown",
      "source": [
        "- Abstraction means hidden.\n",
        "- for example, we have a laptop and in it, there are so many things on the bases of that laptop work such as implementation details, etc but we do not all of them we just focus on the laptop and its functionality on the surface level.\n",
        "- abstraction is also present in nature such as electromagnetic waves, we could see it still taking many benefits from it such as calling by cell phones, using the internet, etc.\n",
        "- it also exists in software. for example that you are working in a bank. And you are the senior person in the bank. so in the bank application where all database query executes from that application but at the bottom of it, two apps are working with it such as a web app and a mob app so if any of them need something from the database so they have to communicate with bank app and inheritance b/w apps automatically occurs. But the bank app has some conditions and only on the bases of the bank app share important staff with the app which send some request such it says that you have to follow/write the security code in your application \n",
        "- the concept of abstraction says that you can apply constraints on lowwer class.\n",
        "- there are two types of method 1) abstract method (has unthing inside the class) 2) concrete method (has some code inside of it.)\n",
        "- Abstract class is a class which must have atleast one abstract method in it, and this method has unthing inside of it meanwhile it has to inheritant abc classs,"
      ],
      "metadata": {
        "id": "JWtp0j7rfw4j"
      }
    },
    {
      "cell_type": "code",
      "execution_count": 3,
      "metadata": {
        "id": "VgUfIgpfMOtL"
      },
      "outputs": [],
      "source": [
        "from abc import ABC, abstractmethod \n",
        "class BankApp(ABC):\n",
        "  def database(self):\n",
        "    print('connected to database.')\n",
        "  @abstractmethod \n",
        "  # this important, it is sign that it is a abstract class. and the requirement of abstract class is fullfill b/c it need atleast on abstract method\n",
        "  def security(self):\n",
        "    pass"
      ]
    },
    {
      "cell_type": "code",
      "source": [
        "class MobApp(BankApp):\n",
        "  # The reason to inherit the bankapp in mobapp b/c mobapp needs database()/method. MobApp needs a database connection to do transactions \n",
        "  # BankApp allows MobApp to inherit and use the database method but it says you have to write the security()/method inside your scope.  \n",
        "  # BankApp knows security protocols that's why it also forces other classes to follow it up to make a secure environment for clients.\n",
        "  # There is a possibility that MobApp does not follow the instructions of BankApp which is necessary, see what happens \n",
        "  def mobel_loggin(self):\n",
        "    print('logging with the same mob')"
      ],
      "metadata": {
        "id": "k_KHeKj6NUmx"
      },
      "execution_count": 4,
      "outputs": []
    },
    {
      "cell_type": "code",
      "source": [
        "mob = MobApp() # see does not work b/c it goes against the BankApp policy. "
      ],
      "metadata": {
        "colab": {
          "base_uri": "https://localhost:8080/",
          "height": 165
        },
        "id": "WhVHYYD80B5D",
        "outputId": "d6190c45-cb6f-42c1-8886-c7a8b891993a"
      },
      "execution_count": 5,
      "outputs": [
        {
          "output_type": "error",
          "ename": "TypeError",
          "evalue": "ignored",
          "traceback": [
            "\u001b[0;31m---------------------------------------------------------------------------\u001b[0m",
            "\u001b[0;31mTypeError\u001b[0m                                 Traceback (most recent call last)",
            "\u001b[0;32m<ipython-input-5-a6bff8aa7ecd>\u001b[0m in \u001b[0;36m<cell line: 1>\u001b[0;34m()\u001b[0m\n\u001b[0;32m----> 1\u001b[0;31m \u001b[0mmob\u001b[0m \u001b[0;34m=\u001b[0m \u001b[0mMobApp\u001b[0m\u001b[0;34m(\u001b[0m\u001b[0;34m)\u001b[0m\u001b[0;34m\u001b[0m\u001b[0;34m\u001b[0m\u001b[0m\n\u001b[0m",
            "\u001b[0;31mTypeError\u001b[0m: Can't instantiate abstract class MobApp with abstract method security"
          ]
        }
      ]
    },
    {
      "cell_type": "code",
      "source": [
        "class MobApp(BankApp):  \n",
        "  # The reason to inherit the bankapp in mobapp b/c mobapp needs database()/method. MobApp needs a database connection to do transactions \n",
        "  # BankApp allows MobApp to inherit and use the database method but it says you have to write the security()/method inside your scope.  \n",
        "  # BankApp knows security protocols that's why it also forces other classes to follow it up to make a secure environment for clients.\n",
        "  def mobel_loggin(self):\n",
        "    print('logging with the same mob')\n",
        "  def security(self):\n",
        "    print('write somecode for mobile security')"
      ],
      "metadata": {
        "id": "TNxYkvyb0DRD"
      },
      "execution_count": 6,
      "outputs": []
    },
    {
      "cell_type": "code",
      "source": [
        "mob1=MobApp()# it works \n",
        "mob1.database()"
      ],
      "metadata": {
        "colab": {
          "base_uri": "https://localhost:8080/"
        },
        "id": "HOJ6TIe51U8Q",
        "outputId": "8bac80f0-0d47-41fc-bda4-177bebeb5e26"
      },
      "execution_count": 10,
      "outputs": [
        {
          "output_type": "stream",
          "name": "stdout",
          "text": [
            "connected to database.\n"
          ]
        }
      ]
    },
    {
      "cell_type": "code",
      "source": [
        "mob1.mobel_loggin()"
      ],
      "metadata": {
        "colab": {
          "base_uri": "https://localhost:8080/"
        },
        "id": "OeFryGQw1ZoG",
        "outputId": "c2faa979-fd6e-4609-abdb-eb674fe5f0c3"
      },
      "execution_count": 12,
      "outputs": [
        {
          "output_type": "stream",
          "name": "stdout",
          "text": [
            "logging with the same mob\n"
          ]
        }
      ]
    },
    {
      "cell_type": "code",
      "source": [
        "mob1.security()\n"
      ],
      "metadata": {
        "colab": {
          "base_uri": "https://localhost:8080/"
        },
        "id": "SUbiuI5V14sJ",
        "outputId": "550ed829-456a-4861-d908-c4567514aac6"
      },
      "execution_count": 13,
      "outputs": [
        {
          "output_type": "stream",
          "name": "stdout",
          "text": [
            "write somecode for mobile security\n"
          ]
        }
      ]
    },
    {
      "cell_type": "markdown",
      "source": [
        "- higher level class forces the lower classes to follow the necessary protocols of the higher class whether they like it or not.\n",
        "- security methods might be different mobapp, webapp, ios etc which is not mentioned in the class but it says it is necessary.\n",
        "- by abstract, you hide the details \n",
        "- by you give some terms and conditions to another party on the bases of those conditions things will move otherwise everything stop. \n",
        "- installing software is also an example of it. \n",
        "- it least used the oop principle but on the bases of ur need you could use it "
      ],
      "metadata": {
        "id": "8dqpCGYV2Q-P"
      }
    },
    {
      "cell_type": "code",
      "source": [
        "obj = BankApp()\n",
        "# You can not make the object of an abstract class \n",
        "# The reason for this is that abstract classes are intended to serve as blueprints or templates for other classes.\n",
        "# Because abstract classes are incomplete and do not provide a full implementation of their methods, it would not make sense to allow them to be instantiated directly.\n",
        "# Instead, they are intended to be subclassed and extended to provide their own implementation details."
      ],
      "metadata": {
        "colab": {
          "base_uri": "https://localhost:8080/",
          "height": 252
        },
        "id": "vKElN9OO2Iv2",
        "outputId": "376f84a8-bd6a-47ed-e1e5-078f77d90a92"
      },
      "execution_count": 1,
      "outputs": [
        {
          "output_type": "error",
          "ename": "NameError",
          "evalue": "ignored",
          "traceback": [
            "\u001b[0;31m---------------------------------------------------------------------------\u001b[0m",
            "\u001b[0;31mNameError\u001b[0m                                 Traceback (most recent call last)",
            "\u001b[0;32m<ipython-input-1-f2a340ce6a84>\u001b[0m in \u001b[0;36m<cell line: 1>\u001b[0;34m()\u001b[0m\n\u001b[0;32m----> 1\u001b[0;31m \u001b[0mobj\u001b[0m \u001b[0;34m=\u001b[0m \u001b[0mBankApp\u001b[0m\u001b[0;34m(\u001b[0m\u001b[0;34m)\u001b[0m\u001b[0;34m\u001b[0m\u001b[0;34m\u001b[0m\u001b[0m\n\u001b[0m\u001b[1;32m      2\u001b[0m \u001b[0;31m# you can not make the object of abstract class\u001b[0m\u001b[0;34m\u001b[0m\u001b[0;34m\u001b[0m\u001b[0m\n\u001b[1;32m      3\u001b[0m \u001b[0;31m# The reason for this is that abstract classes are intended to serve as blueprints or templates for other classes.\u001b[0m\u001b[0;34m\u001b[0m\u001b[0;34m\u001b[0m\u001b[0m\n\u001b[1;32m      4\u001b[0m \u001b[0;31m# Because abstract classes are incomplete and do not provide a full implementation of their methods, it would not make sense to allow them to be instantiated directly.\u001b[0m\u001b[0;34m\u001b[0m\u001b[0;34m\u001b[0m\u001b[0m\n\u001b[1;32m      5\u001b[0m \u001b[0;31m# Instead, they are intended to be subclassed and extended to provide their own implementation details.\u001b[0m\u001b[0;34m\u001b[0m\u001b[0;34m\u001b[0m\u001b[0m\n",
            "\u001b[0;31mNameError\u001b[0m: name 'BankApp' is not defined"
          ]
        }
      ]
    }
  ]
}