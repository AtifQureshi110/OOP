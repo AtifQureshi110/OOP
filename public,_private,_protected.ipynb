{
  "nbformat": 4,
  "nbformat_minor": 0,
  "metadata": {
    "colab": {
      "provenance": [],
      "authorship_tag": "ABX9TyNtrdFlQ8lgkBIwozuvYv+o",
      "include_colab_link": true
    },
    "kernelspec": {
      "name": "python3",
      "display_name": "Python 3"
    },
    "language_info": {
      "name": "python"
    }
  },
  "cells": [
    {
      "cell_type": "markdown",
      "metadata": {
        "id": "view-in-github",
        "colab_type": "text"
      },
      "source": [
        "<a href=\"https://colab.research.google.com/github/AtifQureshi110/OOP/blob/main/public%2C_private%2C_protected.ipynb\" target=\"_parent\"><img src=\"https://colab.research.google.com/assets/colab-badge.svg\" alt=\"Open In Colab\"/></a>"
      ]
    },
    {
      "cell_type": "markdown",
      "source": [
        "# Access modifier \n",
        "- public\n",
        "- private\n",
        "- protected"
      ],
      "metadata": {
        "id": "Y6l5Kk4zFizE"
      }
    },
    {
      "cell_type": "markdown",
      "source": [
        "- **public**: all class variables are public by default, the class level is also called static variables, and all instance variables are also public by default, public means anywhere it can be accessed inside, or outside the class."
      ],
      "metadata": {
        "id": "BomOyZu0yVzU"
      }
    },
    {
      "cell_type": "code",
      "source": [
        "### All the class variables are public\n",
        "# __init__ is a contractor/initializer method.\n",
        "# this is way to declear the variables as public.\n",
        "class Car():\n",
        "    def __init__(self,windows,doors,enginetype):\n",
        "        self.windows=windows\n",
        "        self.doors=doors\n",
        "        self.enginetype=enginetype\n",
        "      "
      ],
      "metadata": {
        "id": "k1p3HUtryYKo"
      },
      "execution_count": 63,
      "outputs": []
    },
    {
      "cell_type": "code",
      "source": [
        "audi=Car(4,5,\"Diesel\")# audi is a blue print of this class."
      ],
      "metadata": {
        "id": "xb1Y2z_xyLVH"
      },
      "execution_count": 64,
      "outputs": []
    },
    {
      "cell_type": "code",
      "source": [
        "audi #this basically an object of Car which store at 0x7ffa42c2a260 in memory."
      ],
      "metadata": {
        "colab": {
          "base_uri": "https://localhost:8080/"
        },
        "id": "9ukrmuKnzzKB",
        "outputId": "c8486210-48b2-461e-a236-2fb6af2c1cb8"
      },
      "execution_count": 65,
      "outputs": [
        {
          "output_type": "execute_result",
          "data": {
            "text/plain": [
              "<__main__.Car at 0x7ffa29ee24d0>"
            ]
          },
          "metadata": {},
          "execution_count": 65
        }
      ]
    },
    {
      "cell_type": "code",
      "source": [
        "display(audi.windows)\n",
        "display(audi.doors)\n",
        "display(audi.enginetype)"
      ],
      "metadata": {
        "colab": {
          "base_uri": "https://localhost:8080/",
          "height": 70
        },
        "id": "RD5kDe-B0Md0",
        "outputId": "b229a02b-41e8-4182-ac67-40c70a1420a2"
      },
      "execution_count": 66,
      "outputs": [
        {
          "output_type": "display_data",
          "data": {
            "text/plain": [
              "4"
            ]
          },
          "metadata": {}
        },
        {
          "output_type": "display_data",
          "data": {
            "text/plain": [
              "5"
            ]
          },
          "metadata": {}
        },
        {
          "output_type": "display_data",
          "data": {
            "text/plain": [
              "'Diesel'"
            ],
            "application/vnd.google.colaboratory.intrinsic+json": {
              "type": "string"
            }
          },
          "metadata": {}
        }
      ]
    },
    {
      "cell_type": "code",
      "source": [
        "for audi_variable in vars(audi): # vars(audi) is a built-in Python function that returns a dictionary containing all the attributes of the audi instance as key-value pairs,\n",
        "    display(getattr(audi, audi_variable)) # The getattr() built-in Python function that takes two arguments: the first argument is the instance of the object from which we want to get the attribute value, and the second argument is the name of the attribute whose value we want to retrieve. I\n"
      ],
      "metadata": {
        "colab": {
          "base_uri": "https://localhost:8080/",
          "height": 70
        },
        "id": "uU1ZMfs21JIv",
        "outputId": "2409ce35-abab-4915-d275-05e32bb0cf9b"
      },
      "execution_count": 67,
      "outputs": [
        {
          "output_type": "display_data",
          "data": {
            "text/plain": [
              "4"
            ]
          },
          "metadata": {}
        },
        {
          "output_type": "display_data",
          "data": {
            "text/plain": [
              "5"
            ]
          },
          "metadata": {}
        },
        {
          "output_type": "display_data",
          "data": {
            "text/plain": [
              "'Diesel'"
            ],
            "application/vnd.google.colaboratory.intrinsic+json": {
              "type": "string"
            }
          },
          "metadata": {}
        }
      ]
    },
    {
      "cell_type": "code",
      "source": [
        "dir(audi) # it shows all the variables of class and their nature by single, double and no underscore"
      ],
      "metadata": {
        "colab": {
          "base_uri": "https://localhost:8080/"
        },
        "id": "7kycRFSw3y8Q",
        "outputId": "b8d80127-4cbb-47e8-8c39-edebd3127bac"
      },
      "execution_count": 68,
      "outputs": [
        {
          "output_type": "execute_result",
          "data": {
            "text/plain": [
              "['__class__',\n",
              " '__delattr__',\n",
              " '__dict__',\n",
              " '__dir__',\n",
              " '__doc__',\n",
              " '__eq__',\n",
              " '__format__',\n",
              " '__ge__',\n",
              " '__getattribute__',\n",
              " '__gt__',\n",
              " '__hash__',\n",
              " '__init__',\n",
              " '__init_subclass__',\n",
              " '__le__',\n",
              " '__lt__',\n",
              " '__module__',\n",
              " '__ne__',\n",
              " '__new__',\n",
              " '__reduce__',\n",
              " '__reduce_ex__',\n",
              " '__repr__',\n",
              " '__setattr__',\n",
              " '__sizeof__',\n",
              " '__str__',\n",
              " '__subclasshook__',\n",
              " '__weakref__',\n",
              " 'doors',\n",
              " 'enginetype',\n",
              " 'windows']"
            ]
          },
          "metadata": {},
          "execution_count": 68
        }
      ]
    },
    {
      "cell_type": "markdown",
      "source": [
        "- **protected**:usually it said that protect variables are only access by sub_class, but it is not like that you can not access anywhere b/c python never restricts them, as other languages do.\n",
        "- make the variables as protect use underScore(_) with each variables, it will become protected variable.\n",
        "-All the class variables are protected\n",
        "- Python is a non-type language means you do not need to define the type of variables too much. \n",
        "- python is a lossy type"
      ],
      "metadata": {
        "id": "JcxUMmIH8tx_"
      }
    },
    {
      "cell_type": "code",
      "source": [
        "class Car01():\n",
        "    def __init__(self,windows,doors,enginetype):\n",
        "        self._windows=windows\n",
        "        self._doors=doors\n",
        "        self._enginetype=enginetype"
      ],
      "metadata": {
        "id": "d-duFSbD4n0N"
      },
      "execution_count": 69,
      "outputs": []
    },
    {
      "cell_type": "code",
      "source": [
        "audi01=Car01(41,4,\"Diesel\")"
      ],
      "metadata": {
        "id": "zboDujz04neh"
      },
      "execution_count": 70,
      "outputs": []
    },
    {
      "cell_type": "code",
      "source": [
        "dir(audi01)"
      ],
      "metadata": {
        "colab": {
          "base_uri": "https://localhost:8080/"
        },
        "id": "oUoCskfd4mMY",
        "outputId": "4a5c97f6-1822-4b97-b798-02bbda1acf06"
      },
      "execution_count": 71,
      "outputs": [
        {
          "output_type": "execute_result",
          "data": {
            "text/plain": [
              "['__class__',\n",
              " '__delattr__',\n",
              " '__dict__',\n",
              " '__dir__',\n",
              " '__doc__',\n",
              " '__eq__',\n",
              " '__format__',\n",
              " '__ge__',\n",
              " '__getattribute__',\n",
              " '__gt__',\n",
              " '__hash__',\n",
              " '__init__',\n",
              " '__init_subclass__',\n",
              " '__le__',\n",
              " '__lt__',\n",
              " '__module__',\n",
              " '__ne__',\n",
              " '__new__',\n",
              " '__reduce__',\n",
              " '__reduce_ex__',\n",
              " '__repr__',\n",
              " '__setattr__',\n",
              " '__sizeof__',\n",
              " '__str__',\n",
              " '__subclasshook__',\n",
              " '__weakref__',\n",
              " '_doors',\n",
              " '_enginetype',\n",
              " '_windows']"
            ]
          },
          "metadata": {},
          "execution_count": 71
        }
      ]
    },
    {
      "cell_type": "code",
      "source": [
        "for audi_variable in vars(audi01): # vars(audi) is a built-in Python function that returns a dictionary containing all the attributes of the audi instance as key-value pairs,\n",
        "    display(getattr(audi01, audi_variable)) # The getattr() built-in Python function that takes two arguments: the first argument is the instance of the object from which we want to get the attribute value, and the second argument is the name of the attribute whose value we want to retrieve. I\n",
        "    display(audi_variable)"
      ],
      "metadata": {
        "colab": {
          "base_uri": "https://localhost:8080/",
          "height": 125
        },
        "id": "czBepu9s90Iq",
        "outputId": "e45f7862-73e9-4b42-b9b2-49aac5454355"
      },
      "execution_count": 72,
      "outputs": [
        {
          "output_type": "display_data",
          "data": {
            "text/plain": [
              "41"
            ]
          },
          "metadata": {}
        },
        {
          "output_type": "display_data",
          "data": {
            "text/plain": [
              "'_windows'"
            ],
            "application/vnd.google.colaboratory.intrinsic+json": {
              "type": "string"
            }
          },
          "metadata": {}
        },
        {
          "output_type": "display_data",
          "data": {
            "text/plain": [
              "4"
            ]
          },
          "metadata": {}
        },
        {
          "output_type": "display_data",
          "data": {
            "text/plain": [
              "'_doors'"
            ],
            "application/vnd.google.colaboratory.intrinsic+json": {
              "type": "string"
            }
          },
          "metadata": {}
        },
        {
          "output_type": "display_data",
          "data": {
            "text/plain": [
              "'Diesel'"
            ],
            "application/vnd.google.colaboratory.intrinsic+json": {
              "type": "string"
            }
          },
          "metadata": {}
        },
        {
          "output_type": "display_data",
          "data": {
            "text/plain": [
              "'_enginetype'"
            ],
            "application/vnd.google.colaboratory.intrinsic+json": {
              "type": "string"
            }
          },
          "metadata": {}
        }
      ]
    },
    {
      "cell_type": "code",
      "source": [
        "audi01._windows=90 # this overridden"
      ],
      "metadata": {
        "id": "mq0zucDn-Hxq"
      },
      "execution_count": 73,
      "outputs": []
    },
    {
      "cell_type": "code",
      "source": [
        "audi01._windows"
      ],
      "metadata": {
        "colab": {
          "base_uri": "https://localhost:8080/"
        },
        "id": "F9JuHgH8-N8l",
        "outputId": "17660af4-eedc-459f-fe09-d38b9275df1b"
      },
      "execution_count": 74,
      "outputs": [
        {
          "output_type": "execute_result",
          "data": {
            "text/plain": [
              "90"
            ]
          },
          "metadata": {},
          "execution_count": 74
        }
      ]
    },
    {
      "cell_type": "code",
      "source": [
        "#inheritance \n",
        "class Truck(Car01):\n",
        "    def __init__(self,windows,doors,enginetype,horsepower):\n",
        "        super().__init__(windows,doors,enginetype)\n",
        "        self.horsepowwer=horsepower"
      ],
      "metadata": {
        "id": "bZ0UOShV-M6h"
      },
      "execution_count": 75,
      "outputs": []
    },
    {
      "cell_type": "code",
      "source": [
        "truck=Truck(4,4,\"Diesel\",4000)"
      ],
      "metadata": {
        "id": "7TGUc2Kq_8uv"
      },
      "execution_count": 76,
      "outputs": []
    },
    {
      "cell_type": "code",
      "source": [
        "truck"
      ],
      "metadata": {
        "colab": {
          "base_uri": "https://localhost:8080/"
        },
        "id": "Kw4zqCGx_9cF",
        "outputId": "db2df5af-cdd5-4dce-d62c-ec2bfcbc37f3"
      },
      "execution_count": 77,
      "outputs": [
        {
          "output_type": "execute_result",
          "data": {
            "text/plain": [
              "<__main__.Truck at 0x7ffa29ee17b0>"
            ]
          },
          "metadata": {},
          "execution_count": 77
        }
      ]
    },
    {
      "cell_type": "code",
      "source": [
        "truck._windows, truck._enginetype, truck._doors, truck.horsepowwer"
      ],
      "metadata": {
        "colab": {
          "base_uri": "https://localhost:8080/"
        },
        "id": "hkE_jBoZ_9t5",
        "outputId": "49cb68cd-3cea-44d5-a4ea-7effe306be87"
      },
      "execution_count": 78,
      "outputs": [
        {
          "output_type": "execute_result",
          "data": {
            "text/plain": [
              "(4, 'Diesel', 4, 4000)"
            ]
          },
          "metadata": {},
          "execution_count": 78
        }
      ]
    },
    {
      "cell_type": "code",
      "source": [
        "dir(truck)"
      ],
      "metadata": {
        "colab": {
          "base_uri": "https://localhost:8080/"
        },
        "id": "Ib3QZsrzAnjY",
        "outputId": "2dcb1cd6-e0e0-4fab-c091-49f7ffd721de"
      },
      "execution_count": 79,
      "outputs": [
        {
          "output_type": "execute_result",
          "data": {
            "text/plain": [
              "['__class__',\n",
              " '__delattr__',\n",
              " '__dict__',\n",
              " '__dir__',\n",
              " '__doc__',\n",
              " '__eq__',\n",
              " '__format__',\n",
              " '__ge__',\n",
              " '__getattribute__',\n",
              " '__gt__',\n",
              " '__hash__',\n",
              " '__init__',\n",
              " '__init_subclass__',\n",
              " '__le__',\n",
              " '__lt__',\n",
              " '__module__',\n",
              " '__ne__',\n",
              " '__new__',\n",
              " '__reduce__',\n",
              " '__reduce_ex__',\n",
              " '__repr__',\n",
              " '__setattr__',\n",
              " '__sizeof__',\n",
              " '__str__',\n",
              " '__subclasshook__',\n",
              " '__weakref__',\n",
              " '_doors',\n",
              " '_enginetype',\n",
              " '_windows',\n",
              " 'horsepowwer']"
            ]
          },
          "metadata": {},
          "execution_count": 79
        }
      ]
    },
    {
      "cell_type": "markdown",
      "source": [
        "- **private**: it can be said that can notbe inherited or overridden or access from anywhere, meanwhile variable can not use outside that class, every modification goes inside the class only.\n",
        "- but python does not restrict it as you know from protected variables.\n",
        "-to make the variable private use double underscore(__)."
      ],
      "metadata": {
        "id": "IObSNbuX8y-v"
      }
    },
    {
      "cell_type": "code",
      "source": [
        "### private\n",
        "class Car02():\n",
        "    def __init__(self,windows,doors,enginetype):\n",
        "        self.__windows=windows\n",
        "        self.__doors=doors\n",
        "        self.__enginetype=enginetype"
      ],
      "metadata": {
        "id": "qECLuvRNA1H5"
      },
      "execution_count": 80,
      "outputs": []
    },
    {
      "cell_type": "code",
      "source": [
        "audi02=Car02(4,4,\"Diesel\")"
      ],
      "metadata": {
        "id": "snDLcdjJCWGC"
      },
      "execution_count": 81,
      "outputs": []
    },
    {
      "cell_type": "code",
      "source": [
        "dir(audi02)"
      ],
      "metadata": {
        "colab": {
          "base_uri": "https://localhost:8080/"
        },
        "id": "thCrkzz4A1mt",
        "outputId": "e95de70d-c016-4c88-9197-f62f958aeaea"
      },
      "execution_count": 82,
      "outputs": [
        {
          "output_type": "execute_result",
          "data": {
            "text/plain": [
              "['_Car02__doors',\n",
              " '_Car02__enginetype',\n",
              " '_Car02__windows',\n",
              " '__class__',\n",
              " '__delattr__',\n",
              " '__dict__',\n",
              " '__dir__',\n",
              " '__doc__',\n",
              " '__eq__',\n",
              " '__format__',\n",
              " '__ge__',\n",
              " '__getattribute__',\n",
              " '__gt__',\n",
              " '__hash__',\n",
              " '__init__',\n",
              " '__init_subclass__',\n",
              " '__le__',\n",
              " '__lt__',\n",
              " '__module__',\n",
              " '__ne__',\n",
              " '__new__',\n",
              " '__reduce__',\n",
              " '__reduce_ex__',\n",
              " '__repr__',\n",
              " '__setattr__',\n",
              " '__sizeof__',\n",
              " '__str__',\n",
              " '__subclasshook__',\n",
              " '__weakref__']"
            ]
          },
          "metadata": {},
          "execution_count": 82
        }
      ]
    }
  ]
}